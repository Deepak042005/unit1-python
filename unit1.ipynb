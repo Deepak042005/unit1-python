{
 "cells": [
  {
   "cell_type": "code",
   "execution_count": 4,
   "id": "d5e26cc8",
   "metadata": {},
   "outputs": [
    {
     "name": "stdout",
     "output_type": "stream",
     "text": [
      "The company makes of a profit of 800 dollars\n",
      "The company receives a total loss of -3400 dollars\n"
     ]
    }
   ],
   "source": [
    "\"\"\"A travel company wants to fly a plane to the Bahamas. Flying the plane costs 5000 dollars. So far,\n",
    "29 people have signed up for the trip. If the company charges 200 dollars per ticket, what is the profit made by the company?\n",
    "\"\"\"\n",
    "cost_of_flying_plane = 5000\n",
    "number_of_passengers = 29\n",
    "price_of_ticket = 200\n",
    "returning_passengers = 12\n",
    "profit = (number_of_passengers * price_of_ticket) - cost_of_flying_plane\n",
    "print('The company makes of a profit of {} dollars'.format(profit))\n",
    "\n",
    "total_profit_loss = (returning_passengers * price_of_ticket) - cost_of_flying_plane - profit\n",
    "if total_profit_loss > 0:\n",
    "    print('The company makes of a total profit of {} dollars'.format(total_profit_loss))\n",
    "else:\n",
    "    print('The company receives a total loss of {} dollars'.format(total_profit_loss))"
   ]
  },
  {
   "cell_type": "code",
   "execution_count": 7,
   "id": "c4534ff1",
   "metadata": {},
   "outputs": [
    {
     "name": "stdout",
     "output_type": "stream",
     "text": [
      "My favourite colors are: ['Red', 'Blue', 'Green']\n"
     ]
    }
   ],
   "source": [
    "#List of Your Favourite 3 Colors\n",
    "colors = [\"Red\", \"Blue\", \"Green\"]\n",
    "print(f\"My favourite colors are: {colors}\")\n"
   ]
  },
  {
   "cell_type": "code",
   "execution_count": 8,
   "id": "b8d1aa4b",
   "metadata": {},
   "outputs": [
    {
     "name": "stdout",
     "output_type": "stream",
     "text": [
      "My favourite vegetables are: ['Carrot', 'Broccoli', 'Spinach']\n"
     ]
    }
   ],
   "source": [
    "#List of Your Favourite 3 Vegetables\n",
    "vegetables = [\"Carrot\", \"Broccoli\", \"Spinach\"]\n",
    "print(f\"My favourite vegetables are: {vegetables}\")\n"
   ]
  },
  {
   "cell_type": "code",
   "execution_count": 9,
   "id": "bd86e6cf",
   "metadata": {},
   "outputs": [
    {
     "name": "stdout",
     "output_type": "stream",
     "text": [
      "My 10th marks are: (85, 90, 95, 88, 92)\n"
     ]
    }
   ],
   "source": [
    "#Create a Tuple of Your 10th Marks\n",
    "marks = (85, 90, 95, 88, 92)\n",
    "print(f\"My 10th marks are: {marks}\")\n"
   ]
  },
  {
   "cell_type": "code",
   "execution_count": 10,
   "id": "ca633c53",
   "metadata": {},
   "outputs": [
    {
     "name": "stdout",
     "output_type": "stream",
     "text": [
      "The last mark in the tuple is: 92\n"
     ]
    }
   ],
   "source": [
    "#Fetch the Mark in the End of the Tuple\n",
    "last_mark = marks[-1]\n",
    "print(f\"The last mark in the tuple is: {last_mark}\")\n"
   ]
  },
  {
   "cell_type": "code",
   "execution_count": 11,
   "id": "a1615667",
   "metadata": {},
   "outputs": [],
   "source": [
    "today = 'Wednesday'"
   ]
  },
  {
   "cell_type": "code",
   "execution_count": 12,
   "id": "6a8faabb",
   "metadata": {},
   "outputs": [
    {
     "name": "stdout",
     "output_type": "stream",
     "text": [
      "Today is the day of Odin, the supreme diety.\n"
     ]
    }
   ],
   "source": [
    "if today == 'Sunday':\n",
    "    print(\"Today is the day of the sun.\")\n",
    "elif today == 'Monday':\n",
    "    print(\"Today is the day of the moon.\")\n",
    "elif today == 'Tuesday':\n",
    "    print(\"Today is the day of Tyr, the god of war.\")\n",
    "elif today == 'Wednesday':\n",
    "    print(\"Today is the day of Odin, the supreme diety.\")\n",
    "elif today == 'Thursday':\n",
    "    print(\"Today is the day of Thor, the god of thunder.\")\n",
    "elif today == 'Friday':\n",
    "    print(\"Today is the day of Frigga, the goddess of beauty.\")\n",
    "elif today == 'Saturday':\n",
    "    print(\"Today is the day of Saturn, the god of fun and feasting.\")"
   ]
  },
  {
   "cell_type": "code",
   "execution_count": 13,
   "id": "2df8b208",
   "metadata": {},
   "outputs": [
    {
     "name": "stdout",
     "output_type": "stream",
     "text": [
      "*\n",
      "**\n",
      "***\n",
      "****\n",
      "*****\n",
      "******\n",
      "*******\n",
      "********\n",
      "*********\n",
      "**********\n",
      "*********\n",
      "********\n",
      "*******\n",
      "******\n",
      "*****\n",
      "****\n",
      "***\n",
      "**\n",
      "*\n"
     ]
    }
   ],
   "source": [
    "line = '*'\n",
    "max_length = 10\n",
    "\n",
    "while len(line) < max_length:\n",
    "    print(line)\n",
    "    line += \"*\"\n",
    "    \n",
    "while len(line) > 0:\n",
    "    print(line)\n",
    "    line = line[:-1]"
   ]
  },
  {
   "cell_type": "code",
   "execution_count": 14,
   "id": "da265f07",
   "metadata": {},
   "outputs": [
    {
     "name": "stdout",
     "output_type": "stream",
     "text": [
      "The factorial of 10 is 3628800\n"
     ]
    }
   ],
   "source": [
    "# Initialize the variables\n",
    "num = 10\n",
    "factorial = 1\n",
    "\n",
    "# Check if the number is negative, positive or zero\n",
    "if num < 0:\n",
    "   print(\"Sorry, factorial does not exist for negative numbers\")\n",
    "elif num == 0:\n",
    "   print(\"The factorial of 0 is 1\")\n",
    "else:\n",
    "   while(num > 1):\n",
    "       factorial *= num\n",
    "       num -= 1\n",
    "   print(\"The factorial of 10 is\", factorial)\n"
   ]
  },
  {
   "cell_type": "code",
   "execution_count": 15,
   "id": "8c148bbb",
   "metadata": {},
   "outputs": [
    {
     "name": "stdout",
     "output_type": "stream",
     "text": [
      "Monday apple\n",
      "Monday banana\n",
      "Monday guava\n",
      "Tuesday apple\n",
      "Tuesday banana\n",
      "Tuesday guava\n",
      "Wednesday apple\n",
      "Wednesday banana\n",
      "Wednesday guava\n"
     ]
    }
   ],
   "source": [
    "days = ['Monday', 'Tuesday', 'Wednesday']\n",
    "fruits = ['apple', 'banana', 'guava']\n",
    "\n",
    "for day in days:\n",
    "    for fruit in fruits:\n",
    "        print(day, fruit)"
   ]
  },
  {
   "cell_type": "code",
   "execution_count": 16,
   "id": "8ffda50e",
   "metadata": {},
   "outputs": [
    {
     "name": "stdout",
     "output_type": "stream",
     "text": [
      "The sum of the numbers from 1 to 100 is 5050\n"
     ]
    }
   ],
   "source": [
    "# Initialize the variables\n",
    "num = 1\n",
    "sum = 0\n",
    "\n",
    "# Use a while loop to iterate from 1 to 100\n",
    "while num <= 100:\n",
    "    sum += num  # Add the current number to the sum\n",
    "    num += 1  # Move to the next number\n",
    "\n",
    "print(\"The sum of the numbers from 1 to 100 is\", sum)\n"
   ]
  },
  {
   "cell_type": "code",
   "execution_count": 17,
   "id": "2c34ab13",
   "metadata": {},
   "outputs": [
    {
     "name": "stdout",
     "output_type": "stream",
     "text": [
      "The person is eligible for the bonus.\n"
     ]
    }
   ],
   "source": [
    "# Define the person's years of experience and age\n",
    "years_of_experience = 6\n",
    "age = 45\n",
    "\n",
    "# Check the conditions for the bonus\n",
    "if years_of_experience >= 5 and age > 40:\n",
    "    print(\"The person is eligible for the bonus.\")\n",
    "else:\n",
    "    print(\"The person is not eligible for the bonus.\")\n"
   ]
  },
  {
   "cell_type": "code",
   "execution_count": null,
   "id": "c060c2c9",
   "metadata": {},
   "outputs": [],
   "source": []
  }
 ],
 "metadata": {
  "kernelspec": {
   "display_name": "Python 3 (ipykernel)",
   "language": "python",
   "name": "python3"
  },
  "language_info": {
   "codemirror_mode": {
    "name": "ipython",
    "version": 3
   },
   "file_extension": ".py",
   "mimetype": "text/x-python",
   "name": "python",
   "nbconvert_exporter": "python",
   "pygments_lexer": "ipython3",
   "version": "3.11.5"
  }
 },
 "nbformat": 4,
 "nbformat_minor": 5
}
